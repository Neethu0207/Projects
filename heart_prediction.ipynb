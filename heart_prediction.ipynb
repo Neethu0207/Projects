{
  "nbformat": 4,
  "nbformat_minor": 0,
  "metadata": {
    "colab": {
      "private_outputs": true,
      "provenance": [],
      "gpuType": "T4",
      "include_colab_link": true
    },
    "kernelspec": {
      "name": "python3",
      "display_name": "Python 3"
    },
    "language_info": {
      "name": "python"
    },
    "accelerator": "GPU"
  },
  "cells": [
    {
      "cell_type": "markdown",
      "metadata": {
        "id": "view-in-github",
        "colab_type": "text"
      },
      "source": [
        "<a href=\"https://colab.research.google.com/github/Neethu0207/Projects/blob/main/heart_prediction.ipynb\" target=\"_parent\"><img src=\"https://colab.research.google.com/assets/colab-badge.svg\" alt=\"Open In Colab\"/></a>"
      ]
    },
    {
      "cell_type": "markdown",
      "source": [
        "\n",
        "# HEART DISEASE PREDICTION\n"
      ],
      "metadata": {
        "id": "CxMBkVmXYykU"
      }
    },
    {
      "cell_type": "markdown",
      "source": [
        "# **Importing libraries and loading dataset**"
      ],
      "metadata": {
        "id": "73gNB8UsZIcu"
      }
    },
    {
      "cell_type": "code",
      "execution_count": null,
      "metadata": {
        "id": "lCcBkbSG4oMe"
      },
      "outputs": [],
      "source": [
        "import numpy as np\n",
        "import pandas as pd\n",
        "from sklearn.model_selection import train_test_split\n",
        "from sklearn.linear_model import LogisticRegression\n",
        "from sklearn.metrics import accuracy_score\n",
        "from sklearn.ensemble import RandomForestClassifier, GradientBoostingClassifier\n",
        "from sklearn.naive_bayes import GaussianNB\n",
        "from sklearn.neighbors import KNeighborsClassifier\n",
        "from sklearn.svm import SVC\n",
        "from sklearn.preprocessing import StandardScaler\n",
        "from sklearn.tree import DecisionTreeClassifier\n",
        "from sklearn.metrics import classification_report, recall_score, roc_curve, roc_auc_score\n",
        "from sklearn.metrics import confusion_matrix, precision_score, f1_score\n",
        "import matplotlib.pyplot as plt"
      ]
    },
    {
      "cell_type": "markdown",
      "source": [
        "# Read and process the dataset"
      ],
      "metadata": {
        "id": "BK6W4SHT0fvc"
      }
    },
    {
      "cell_type": "code",
      "source": [
        "heart_data=pd.read_csv('/content/heart (1).csv')"
      ],
      "metadata": {
        "id": "Ewb1mFEf49gu"
      },
      "execution_count": null,
      "outputs": []
    },
    {
      "cell_type": "code",
      "source": [
        "heart_data.head()"
      ],
      "metadata": {
        "id": "nVBn0FPm5Jks",
        "collapsed": true
      },
      "execution_count": null,
      "outputs": []
    },
    {
      "cell_type": "code",
      "source": [
        "heart_data.shape"
      ],
      "metadata": {
        "id": "knBLY-IW5KlB"
      },
      "execution_count": null,
      "outputs": []
    },
    {
      "cell_type": "code",
      "source": [
        "heart_data.info()"
      ],
      "metadata": {
        "id": "2wJvjIEK5S-2",
        "collapsed": true
      },
      "execution_count": null,
      "outputs": []
    },
    {
      "cell_type": "markdown",
      "source": [
        "# Checking for null values in the dataset\n"
      ],
      "metadata": {
        "id": "f6Z77fdDZYHH"
      }
    },
    {
      "cell_type": "code",
      "source": [
        "heart_data.isnull().sum()"
      ],
      "metadata": {
        "id": "Q3ilGMau5VrY",
        "collapsed": true
      },
      "execution_count": null,
      "outputs": []
    },
    {
      "cell_type": "markdown",
      "source": [
        "# Total missing percent of data"
      ],
      "metadata": {
        "id": "o4wUfEq-0wTL"
      }
    },
    {
      "source": [
        "missing_data=heart_data.isnull().sum()\n",
        "total_cells=np.prod(heart_data.shape) # Changed 'product' to 'prod'\n",
        "total_missing=missing_data.sum()\n",
        "missing_percent=(total_missing/total_cells)*100\n",
        "print(missing_percent)"
      ],
      "cell_type": "code",
      "metadata": {
        "id": "joQ5v_xOVWDD"
      },
      "execution_count": null,
      "outputs": []
    },
    {
      "cell_type": "markdown",
      "source": [
        "# Checking for Duplicate"
      ],
      "metadata": {
        "id": "Dwv6_u6w1KUK"
      }
    },
    {
      "cell_type": "code",
      "source": [
        "duplicate=heart_data.duplicated().sum()\n",
        "print(duplicate)\n"
      ],
      "metadata": {
        "id": "xf5c0sQY1HfL"
      },
      "execution_count": null,
      "outputs": []
    },
    {
      "cell_type": "code",
      "source": [
        "#drop duplicate\n",
        "heart_data.drop_duplicates()"
      ],
      "metadata": {
        "id": "Ae6V_1Va1ib0"
      },
      "execution_count": null,
      "outputs": []
    },
    {
      "cell_type": "markdown",
      "source": [
        "\n",
        "# Describing dataset"
      ],
      "metadata": {
        "id": "SYUTAdNWZdiB"
      }
    },
    {
      "cell_type": "code",
      "source": [
        "heart_data.describe()"
      ],
      "metadata": {
        "id": "60nfu-635Yhh",
        "collapsed": true
      },
      "execution_count": null,
      "outputs": []
    },
    {
      "cell_type": "code",
      "source": [
        "#distribution of the target variable\n",
        "heart_data['target'].value_counts()"
      ],
      "metadata": {
        "id": "HPmvhkwX5dnD"
      },
      "execution_count": null,
      "outputs": []
    },
    {
      "cell_type": "markdown",
      "source": [
        "# Divide data into training testing"
      ],
      "metadata": {
        "id": "Ka5ks6ry2_WC"
      }
    },
    {
      "cell_type": "code",
      "source": [
        "# Split data into features and target\n",
        "X = heart_data.drop(columns='target', axis=1)\n",
        "Y = heart_data['target']\n"
      ],
      "metadata": {
        "id": "CxJIo6o75-m8"
      },
      "execution_count": null,
      "outputs": []
    },
    {
      "cell_type": "code",
      "source": [
        "print(X)"
      ],
      "metadata": {
        "id": "-cgFKxSB6BHZ",
        "collapsed": true
      },
      "execution_count": null,
      "outputs": []
    },
    {
      "cell_type": "code",
      "source": [
        "print(Y)"
      ],
      "metadata": {
        "id": "ZbTfP8426DpG",
        "collapsed": true
      },
      "execution_count": null,
      "outputs": []
    },
    {
      "cell_type": "markdown",
      "source": [
        "# Splitting the dataset into train and test data"
      ],
      "metadata": {
        "id": "C5RH63roZnce"
      }
    },
    {
      "cell_type": "code",
      "source": [
        "# Split data into test/train set\n",
        "X_train, X_test, Y_train, Y_test = train_test_split(X, Y, test_size=0.2, random_state=2)"
      ],
      "metadata": {
        "id": "R9Ef1PXv6GQ7"
      },
      "execution_count": null,
      "outputs": []
    },
    {
      "cell_type": "code",
      "source": [
        "print(X.shape, X_train.shape, X_test.shape)"
      ],
      "metadata": {
        "id": "ZWQivYhq6Iql"
      },
      "execution_count": null,
      "outputs": []
    },
    {
      "cell_type": "markdown",
      "source": [
        "# **Implementing Logistic Regression**"
      ],
      "metadata": {
        "id": "Q26ANbgGCr06"
      }
    },
    {
      "cell_type": "code",
      "source": [
        "model = LogisticRegression()"
      ],
      "metadata": {
        "id": "qiBNQAiB6K5b"
      },
      "execution_count": null,
      "outputs": []
    },
    {
      "cell_type": "code",
      "source": [
        "# Train and evaluate models\n",
        "model.fit(X_train,Y_train)"
      ],
      "metadata": {
        "id": "wFIdwR2n6O6R"
      },
      "execution_count": null,
      "outputs": []
    },
    {
      "cell_type": "code",
      "source": [
        "#Prediction of train set\n",
        "X_train_prediction = model.predict(X_train)\n",
        "training_data_accuracy = accuracy_score(X_train_prediction, Y_train)"
      ],
      "metadata": {
        "id": "vT2PUCqN6QVa"
      },
      "execution_count": null,
      "outputs": []
    },
    {
      "cell_type": "code",
      "source": [
        "print('Accuracy on Training data : ', training_data_accuracy)"
      ],
      "metadata": {
        "id": "8dqyZ7_N6SWl"
      },
      "execution_count": null,
      "outputs": []
    },
    {
      "cell_type": "code",
      "source": [
        "#Prediction of test set\n",
        "X_test_prediction = model.predict(X_test)\n",
        "test_data_accuracy = accuracy_score(X_test_prediction, Y_test)"
      ],
      "metadata": {
        "id": "Zt-q3xCI6UWt"
      },
      "execution_count": null,
      "outputs": []
    },
    {
      "cell_type": "code",
      "source": [
        "print('Accuracy on Test data : ', test_data_accuracy)"
      ],
      "metadata": {
        "id": "eA7fJkPB6Ywn"
      },
      "execution_count": null,
      "outputs": []
    },
    {
      "source": [
        "input_data = (62,1,0,140,268,0,3.6,0,2,2,3.6,0,2.3) # Added missing values to the tuple to match the expected number of features (13).\n",
        "\n",
        "input_data_as_numpy_array= np.asarray(input_data)\n",
        "\n",
        "input_data_reshaped = input_data_as_numpy_array.reshape(1,-1)\n",
        "\n",
        "prediction = model.predict(input_data_reshaped)\n",
        "print(prediction)\n",
        "\n",
        "if (prediction[0]== 0):\n",
        "  print('The Person does not have a Heart Disease')\n",
        "else:\n",
        "  print('The Person has Heart Disease')"
      ],
      "cell_type": "code",
      "metadata": {
        "id": "-2zvMEDXVqsa"
      },
      "execution_count": null,
      "outputs": []
    },
    {
      "cell_type": "code",
      "source": [
        "# Vizualize confusion matrix\n",
        "from sklearn.metrics import confusion_matrix\n",
        "import seaborn as sns\n",
        "import matplotlib.pyplot as plt\n",
        "\n",
        "\n",
        "y_pred = model.predict(X_test)\n",
        "conf_matrix = confusion_matrix(Y_test, y_pred)\n",
        "\n",
        "sns.heatmap(conf_matrix, annot=True, fmt='d', cmap='Blues')\n",
        "plt.xlabel('Predicted Label')\n",
        "plt.ylabel('True Label')\n",
        "plt.title('Confusion Matrix for Logistic Regression')\n",
        "plt.show()"
      ],
      "metadata": {
        "id": "HSbzdGwPDOw4"
      },
      "execution_count": null,
      "outputs": []
    },
    {
      "cell_type": "markdown",
      "source": [
        "# **Support Vector Machine**"
      ],
      "metadata": {
        "id": "EdmoihLFC4ZP"
      }
    },
    {
      "source": [
        "from sklearn.svm import SVC"
      ],
      "cell_type": "code",
      "metadata": {
        "id": "XubSRg4r655p"
      },
      "execution_count": null,
      "outputs": []
    },
    {
      "source": [
        "model = SVC(kernel='linear')\n",
        "model.fit(X_train, Y_train)"
      ],
      "cell_type": "code",
      "metadata": {
        "id": "0eFJu_-z67C3"
      },
      "execution_count": null,
      "outputs": []
    },
    {
      "cell_type": "code",
      "source": [
        "\n",
        "X_train_prediction = model.predict(X_train)\n",
        "training_data_accuracy = accuracy_score(X_train_prediction, Y_train)"
      ],
      "metadata": {
        "id": "caUnmhcu7F0l"
      },
      "execution_count": null,
      "outputs": []
    },
    {
      "cell_type": "code",
      "source": [
        "print('Accuracy on Training data : ', training_data_accuracy)"
      ],
      "metadata": {
        "id": "ixyU6O-o7GcB"
      },
      "execution_count": null,
      "outputs": []
    },
    {
      "cell_type": "code",
      "source": [
        "\n",
        "X_test_prediction = model.predict(X_test)\n",
        "test_data_accuracy = accuracy_score(X_test_prediction, Y_test)"
      ],
      "metadata": {
        "id": "AOCi191L7KL1"
      },
      "execution_count": null,
      "outputs": []
    },
    {
      "cell_type": "code",
      "source": [
        "print('Accuracy on Test data : ', test_data_accuracy)"
      ],
      "metadata": {
        "id": "z4_nAFjf7PBg"
      },
      "execution_count": null,
      "outputs": []
    },
    {
      "cell_type": "code",
      "source": [
        "input_data = (62,1,0,140,268,3.6,0,160,0,3.6,0,12,89)\n",
        "input_data_as_numpy_array= np.asarray(input_data)\n",
        "input_data_reshaped = input_data_as_numpy_array.reshape(1,-1)\n",
        "\n",
        "prediction = model.predict(input_data_reshaped)\n",
        "print(prediction)\n",
        "\n",
        "if (prediction[0]== 0):\n",
        "  print('The Person does not have a Heart Disease')\n",
        "else:\n",
        "  print('The Person has Heart Disease')"
      ],
      "metadata": {
        "id": "l5FTLY4L7UNG"
      },
      "execution_count": null,
      "outputs": []
    },
    {
      "cell_type": "code",
      "source": [
        "# Vizualize confusion matrix\n",
        "y_pred = model.predict(X_test)\n",
        "conf_matrix = confusion_matrix(Y_test, y_pred)\n",
        "\n",
        "sns.heatmap(conf_matrix, annot=True, fmt='d', cmap='Blues')\n",
        "plt.xlabel('Predicted Label')\n",
        "plt.ylabel('True Label')\n",
        "plt.title('Confusion Matrix for Svm')\n",
        "plt.show()"
      ],
      "metadata": {
        "id": "Y0z2gFtp8D2I"
      },
      "execution_count": null,
      "outputs": []
    },
    {
      "cell_type": "markdown",
      "source": [
        "# Random Forest\n"
      ],
      "metadata": {
        "id": "dlvp5F1oA2M9"
      }
    },
    {
      "source": [
        "import numpy as np\n",
        "import pandas as pd\n",
        "from sklearn.model_selection import train_test_split\n",
        "from sklearn.metrics import accuracy_score\n",
        "from sklearn.ensemble import RandomForestClassifier\n",
        "\n",
        "X = heart_data.drop(columns='target', axis=1)\n",
        "Y = heart_data['target']"
      ],
      "cell_type": "code",
      "metadata": {
        "id": "WgKpJLsSAPys"
      },
      "execution_count": null,
      "outputs": []
    },
    {
      "source": [
        "# Initialize Random Forest Classifier\n",
        "X_train, X_test, Y_train, Y_test = train_test_split(X, Y, test_size=0.2, random_state=2)\n",
        "rf_model = RandomForestClassifier(n_estimators=100, random_state=42)\n",
        "rf_model.fit(X_train, Y_train)"
      ],
      "cell_type": "code",
      "metadata": {
        "id": "NJVOtIV3AQyu"
      },
      "execution_count": null,
      "outputs": []
    },
    {
      "source": [
        "X_train_prediction = rf_model.predict(X_train)\n",
        "training_data_accuracy = accuracy_score(X_train_prediction, Y_train)\n",
        "print('Accuracy on Training data : ', training_data_accuracy)\n",
        "\n",
        "X_test_prediction = rf_model.predict(X_test)\n",
        "test_data_accuracy = accuracy_score(X_test_prediction, Y_test)\n",
        "print('Accuracy on Test data : ', test_data_accuracy)"
      ],
      "cell_type": "code",
      "metadata": {
        "id": "9Lwdqbk1ARrB"
      },
      "execution_count": null,
      "outputs": []
    },
    {
      "source": [
        "input_data = (62,1,0,140,268,3.6,0,160,0,3.6,0,12,13)\n",
        "input_data_as_numpy_array= np.asarray(input_data)\n",
        "input_data_reshaped = input_data_as_numpy_array.reshape(1,-1)\n",
        "\n",
        "prediction = rf_model.predict(input_data_reshaped)\n",
        "print(prediction)\n",
        "\n",
        "if (prediction[0]== 0):\n",
        "  print('The Person does not have a Heart Disease')\n",
        "else:\n",
        "  print('The Person has Heart Disease')"
      ],
      "cell_type": "code",
      "metadata": {
        "id": "Cg-0h0QgASa4"
      },
      "execution_count": null,
      "outputs": []
    },
    {
      "cell_type": "code",
      "source": [
        "# Vizualize confusion matrix\n",
        "y_pred = rf_model.predict(X_test)\n",
        "conf_matrix = confusion_matrix(Y_test, y_pred)\n",
        "\n",
        "sns.heatmap(conf_matrix, annot=True, fmt='d', cmap='Blues')\n",
        "plt.xlabel('Predicted Label')\n",
        "plt.ylabel('True Label')\n",
        "plt.title('Confusion Matrix for Randomforest')\n",
        "plt.show()"
      ],
      "metadata": {
        "id": "2wgUS7f0DiHT"
      },
      "execution_count": null,
      "outputs": []
    },
    {
      "cell_type": "markdown",
      "source": [
        "# **GradientBoosting Classifier**"
      ],
      "metadata": {
        "id": "nGcQdvV2BDoA"
      }
    },
    {
      "source": [
        "import numpy as np\n",
        "import pandas as pd\n",
        "from sklearn.model_selection import train_test_split\n",
        "from sklearn.metrics import accuracy_score\n",
        "from sklearn.ensemble import GradientBoostingClassifier\n",
        "\n",
        "X = heart_data.drop(columns='target', axis=1)\n",
        "Y = heart_data['target']"
      ],
      "cell_type": "code",
      "metadata": {
        "id": "6cPunX-_BF3M"
      },
      "execution_count": null,
      "outputs": []
    },
    {
      "source": [
        "X_train, X_test, Y_train, Y_test = train_test_split(X, Y, test_size=0.2, random_state=2)\n",
        "gb_model = GradientBoostingClassifier(n_estimators=100, random_state=42)\n",
        "gb_model.fit(X_train, Y_train)"
      ],
      "cell_type": "code",
      "metadata": {
        "id": "5KKcWD0JBGxx"
      },
      "execution_count": null,
      "outputs": []
    },
    {
      "source": [
        "X_train_prediction = gb_model.predict(X_train)\n",
        "training_data_accuracy = accuracy_score(X_train_prediction, Y_train)\n",
        "print('Accuracy on Training data : ', training_data_accuracy)\n",
        "\n",
        "X_test_prediction = gb_model.predict(X_test)\n",
        "test_data_accuracy = accuracy_score(X_test_prediction, Y_test)\n",
        "print('Accuracy on Test data : ', test_data_accuracy)"
      ],
      "cell_type": "code",
      "metadata": {
        "id": "BglV6hWKBHVK"
      },
      "execution_count": null,
      "outputs": []
    },
    {
      "source": [
        "input_data = (62,1,0,140,268,3.6,0,160,0,3.6,0,13,14)\n",
        "input_data_as_numpy_array= np.asarray(input_data)\n",
        "input_data_reshaped = input_data_as_numpy_array.reshape(1,-1)\n",
        "\n",
        "prediction = gb_model.predict(input_data_reshaped)\n",
        "print(prediction)\n",
        "\n",
        "if (prediction[0]== 0):\n",
        "  print('The Person does not have a Heart Disease')\n",
        "else:\n",
        "  print('The Person has Heart Disease')"
      ],
      "cell_type": "code",
      "metadata": {
        "id": "I2DZJKPbBH6p"
      },
      "execution_count": null,
      "outputs": []
    },
    {
      "cell_type": "code",
      "source": [
        "# Vizualize confusion matrix\n",
        "y_pred = gb_model.predict(X_test)\n",
        "conf_matrix = confusion_matrix(Y_test, y_pred)\n",
        "\n",
        "sns.heatmap(conf_matrix, annot=True, fmt='d', cmap='Blues')\n",
        "plt.xlabel('Predicted Label')\n",
        "plt.ylabel('True Label')\n",
        "plt.title('Confusion Matrix for Gradient boosting')\n",
        "plt.show()"
      ],
      "metadata": {
        "id": "XucjY-QEBA3e"
      },
      "execution_count": null,
      "outputs": []
    },
    {
      "cell_type": "markdown",
      "source": [
        "# **Gaussian Naive Bayes**"
      ],
      "metadata": {
        "id": "J8Vp4BDFBm1z"
      }
    },
    {
      "source": [
        "import numpy as np\n",
        "import pandas as pd\n",
        "from sklearn.model_selection import train_test_split\n",
        "from sklearn.metrics import accuracy_score\n",
        "from sklearn.naive_bayes import GaussianNB\n",
        "\n",
        "X = heart_data.drop(columns='target', axis=1)\n",
        "Y = heart_data['target']"
      ],
      "cell_type": "code",
      "metadata": {
        "id": "gz0EH7y-BWoR"
      },
      "execution_count": null,
      "outputs": []
    },
    {
      "cell_type": "code",
      "source": [
        "gnb_model = GaussianNB()\n",
        "gnb_model.fit(X_train, Y_train)\n"
      ],
      "metadata": {
        "id": "zTTEOhHMYZCf"
      },
      "execution_count": null,
      "outputs": []
    },
    {
      "source": [
        "\n",
        "X_train_prediction = gnb_model.predict(X_train)\n",
        "training_data_accuracy = accuracy_score(X_train_prediction, Y_train)\n",
        "print('Accuracy on Training data : ', training_data_accuracy)\n",
        "\n",
        "X_test_prediction = gnb_model.predict(X_test)\n",
        "test_data_accuracy = accuracy_score(X_test_prediction, Y_test)\n",
        "print('Accuracy on Test data : ', test_data_accuracy)"
      ],
      "cell_type": "code",
      "metadata": {
        "id": "PurHvO3iBX1B"
      },
      "execution_count": null,
      "outputs": []
    },
    {
      "source": [
        "input_data = (62,1,0,140,268,3.6,0,160,0,3.6,0,11,15)\n",
        "input_data_as_numpy_array= np.asarray(input_data)\n",
        "input_data_reshaped = input_data_as_numpy_array.reshape(1,-1)\n",
        "\n",
        "prediction = gnb_model.predict(input_data_reshaped)\n",
        "print(prediction)\n",
        "\n",
        "if (prediction[0]== 0):\n",
        "  print('The Person does not have a Heart Disease')\n",
        "else:\n",
        "  print('The Person has Heart Disease')"
      ],
      "cell_type": "code",
      "metadata": {
        "id": "IHkvAmkoBYhl"
      },
      "execution_count": null,
      "outputs": []
    },
    {
      "cell_type": "code",
      "source": [
        "# Vizualize confusion matrix\n",
        "y_pred = gnb_model.predict(X_test)\n",
        "conf_matrix = confusion_matrix(Y_test, y_pred)\n",
        "\n",
        "sns.heatmap(conf_matrix, annot=True, fmt='d', cmap='Blues')\n",
        "plt.xlabel('Predicted Label')\n",
        "plt.ylabel('True Label')\n",
        "plt.title('Confusion Matrix for Gaussian Naive Bayes')\n",
        "plt.show()"
      ],
      "metadata": {
        "id": "WIAw0u7_EZ00"
      },
      "execution_count": null,
      "outputs": []
    },
    {
      "cell_type": "markdown",
      "source": [
        "# **KNeighbors Classifier**"
      ],
      "metadata": {
        "id": "gU3m8TIoBqP2"
      }
    },
    {
      "source": [
        "import numpy as np\n",
        "import pandas as pd\n",
        "from sklearn.model_selection import train_test_split\n",
        "from sklearn.metrics import accuracy_score\n",
        "from sklearn.neighbors import KNeighborsClassifier\n",
        "\n",
        "X = heart_data.drop(columns='target', axis=1)\n",
        "Y = heart_data['target']"
      ],
      "cell_type": "code",
      "metadata": {
        "id": "zbaz3SjhBw5h"
      },
      "execution_count": null,
      "outputs": []
    },
    {
      "source": [
        "X_train, X_test, Y_train, Y_test = train_test_split(X, Y, test_size=0.2, random_state=2)\n",
        "knn_model = KNeighborsClassifier(n_neighbors=5)\n",
        "knn_model.fit(X_train, Y_train)\n",
        "knn_scores=[]"
      ],
      "cell_type": "code",
      "metadata": {
        "id": "xiKCDv5xB4J-"
      },
      "execution_count": null,
      "outputs": []
    },
    {
      "source": [
        "X_train_prediction = knn_model.predict(X_train)\n",
        "training_data_accuracy = accuracy_score(X_train_prediction, Y_train)\n",
        "print('Accuracy on Training data : ', training_data_accuracy)\n",
        "\n",
        "X_test_prediction = knn_model.predict(X_test)\n",
        "test_data_accuracy = accuracy_score(X_test_prediction, Y_test)\n",
        "print('Accuracy on Test data : ', test_data_accuracy)"
      ],
      "cell_type": "code",
      "metadata": {
        "id": "FBH-kQ5KB1fn"
      },
      "execution_count": null,
      "outputs": []
    },
    {
      "cell_type": "code",
      "source": [
        "#calculating classification report\n",
        "from sklearn.metrics import classification_report\n",
        "print(classification_report(Y_test, X_test_prediction))\n"
      ],
      "metadata": {
        "id": "5Y26s_Wr4dEU"
      },
      "execution_count": null,
      "outputs": []
    },
    {
      "source": [
        "input_data = (62,1,0,140,268,3.6,0,160,0,3.6,0,1,0)\n",
        "input_data_as_numpy_array= np.asarray(input_data)\n",
        "input_data_reshaped = input_data_as_numpy_array.reshape(1,-1)\n",
        "\n",
        "prediction = knn_model.predict(input_data_reshaped)\n",
        "print(prediction)\n",
        "\n",
        "if (prediction[0]== 0):\n",
        "  print('The Person does not have a Heart Disease')\n",
        "else:\n",
        "  print('The Person has Heart Disease')"
      ],
      "cell_type": "code",
      "metadata": {
        "id": "whTlTSopB5pG"
      },
      "execution_count": null,
      "outputs": []
    },
    {
      "cell_type": "code",
      "source": [
        "# Vizualize confusion matrix\n",
        "y_pred = knn_model.predict(X_test)\n",
        "conf_matrix = confusion_matrix(Y_test, y_pred)\n",
        "\n",
        "sns.heatmap(conf_matrix, annot=True, fmt='d', cmap='Blues')\n",
        "plt.xlabel('Predicted Label')\n",
        "plt.ylabel('True Label')\n",
        "plt.title('Confusion Matrix for knn')\n",
        "plt.show()"
      ],
      "metadata": {
        "id": "cW3l13yVEcjx"
      },
      "execution_count": null,
      "outputs": []
    },
    {
      "cell_type": "markdown",
      "source": [
        "# **DecisionTree Classifier**"
      ],
      "metadata": {
        "id": "zv8CVzSuCB9w"
      }
    },
    {
      "source": [
        "import numpy as np\n",
        "import pandas as pd\n",
        "from sklearn.model_selection import train_test_split\n",
        "from sklearn.metrics import accuracy_score\n",
        "from sklearn.tree import DecisionTreeClassifier\n",
        "\n",
        "X = heart_data.drop(columns='target', axis=1)\n",
        "Y = heart_data['target']"
      ],
      "cell_type": "code",
      "metadata": {
        "id": "nEtw_3SgCIaA"
      },
      "execution_count": null,
      "outputs": []
    },
    {
      "source": [
        "X_train, X_test, Y_train, Y_test = train_test_split(X, Y, test_size=0.2, random_state=2)\n",
        "dt_model = DecisionTreeClassifier(random_state=42)\n",
        "dt_model.fit(X_train, Y_train)"
      ],
      "cell_type": "code",
      "metadata": {
        "id": "sgOjoePpCKJ_"
      },
      "execution_count": null,
      "outputs": []
    },
    {
      "source": [
        "X_train_prediction = dt_model.predict(X_train)\n",
        "training_data_accuracy = accuracy_score(X_train_prediction, Y_train)\n",
        "print('Accuracy on Training data : ', training_data_accuracy)\n",
        "\n",
        "X_test_prediction = dt_model.predict(X_test)\n",
        "test_data_accuracy = accuracy_score(X_test_prediction, Y_test)\n",
        "print('Accuracy on Test data : ', test_data_accuracy)"
      ],
      "cell_type": "code",
      "metadata": {
        "id": "YcIAKiLKCKsE"
      },
      "execution_count": null,
      "outputs": []
    },
    {
      "source": [
        "input_data = (62,1,0,140,268,3.6,0,160,0,3.6,0,1,1)\n",
        "input_data_as_numpy_array= np.asarray(input_data)\n",
        "input_data_reshaped = input_data_as_numpy_array.reshape(1,-1)\n",
        "\n",
        "prediction = dt_model.predict(input_data_reshaped)\n",
        "print(prediction)\n",
        "\n",
        "if (prediction[0]== 0):\n",
        "  print('The Person does not have a Heart Disease')\n",
        "else:\n",
        "  print('The Person has Heart Disease')"
      ],
      "cell_type": "code",
      "metadata": {
        "id": "hufA8MnSCLjk"
      },
      "execution_count": null,
      "outputs": []
    },
    {
      "source": [
        "# Vizualize confusion matrix\n",
        "y_pred = dt_model.predict(X_test)\n",
        "conf_matrix = confusion_matrix(Y_test, y_pred)\n",
        "\n",
        "sns.heatmap(conf_matrix, annot=True, fmt='d', cmap='Blues')\n",
        "plt.xlabel('Predicted Label')\n",
        "plt.ylabel('True Label')\n",
        "plt.title('Confusion Matrix for DecisionTreeClassifier')\n",
        "plt.show()"
      ],
      "cell_type": "code",
      "metadata": {
        "id": "p8v8Rl21DGR9"
      },
      "execution_count": null,
      "outputs": []
    },
    {
      "cell_type": "markdown",
      "source": [
        "HEAT MAP"
      ],
      "metadata": {
        "id": "agugykCXWlw3"
      }
    },
    {
      "cell_type": "code",
      "source": [
        "\n",
        "import seaborn as sns\n",
        "import matplotlib.pyplot as plt\n",
        "\n"
      ],
      "metadata": {
        "id": "4zTvdr5nWaF0"
      },
      "execution_count": null,
      "outputs": []
    },
    {
      "cell_type": "code",
      "source": [
        "#visualizing with the help of heatmap\n",
        "sns.heatmap(heart_data.corr(),annot=True)\n",
        "\n"
      ],
      "metadata": {
        "id": "TBLi747DWkTY"
      },
      "execution_count": null,
      "outputs": []
    },
    {
      "cell_type": "code",
      "source": [
        "#visualizing heartdisease by gender using piechart\n",
        "heart_disease_by_gender = heart_data[heart_data['target'] == 1]['sex'].value_counts()\n",
        "labels = ['Female', 'Male']\n",
        "colors = ['#ff9999', '#66b3ff']\n",
        "explode = (0.1, 0)\n",
        "plt.pie(heart_disease_by_gender, labels=labels, colors=colors, explode=explode, autopct='%1.1f%%', shadow=True, startangle=140)"
      ],
      "metadata": {
        "id": "5z69aQbWWy0U"
      },
      "execution_count": null,
      "outputs": []
    },
    {
      "cell_type": "code",
      "source": [
        "#visualizing age distribution with the help of barchart\n",
        "plt.figure(figsize=(10, 6))\n",
        "plt.hist(heart_data['age'], bins=20, color='skyblue', edgecolor='black')\n",
        "plt.xlabel('Age')\n",
        "plt.ylabel('Count')\n",
        "plt.title('Age Distribution of Patients')"
      ],
      "metadata": {
        "id": "EVMV8Y2JXDlJ"
      },
      "execution_count": null,
      "outputs": []
    },
    {
      "cell_type": "code",
      "source": [
        "\n",
        "algorithms = ['Logistic Regression', 'SVM', 'Random Forest', 'Gradient Boosting', 'Gaussian Naive Bayes', 'KNeighbors Classifier', 'Decision Tree Classifier']\n",
        "\n",
        "scores = [\n",
        "    test_data_accuracy_lr,\n",
        "    test_data_accuracy_svm,\n",
        "    test_data_accuracy_rf,\n",
        "    test_data_accuracy_gb,\n",
        "    test_data_accuracy_gnb,\n",
        "    test_data_accuracy_knn,\n",
        "    test_data_accuracy_dt\n",
        "]\n",
        "\n",
        "sns.set(rc={'figure.figsize':(15,8)})\n",
        "plt.xlabel(\"Algorithms\")\n",
        "plt.ylabel(\"Accuracy score\")\n",
        "\n",
        "\n",
        "sns.barplot(x=algorithms, y=scores)\n",
        "plt.xticks(rotation=45, ha='right')\n",
        "plt.title('Accuracy Comparison of Machine Learning Models') # Add a title\n",
        "plt.tight_layout()\n",
        "plt.show()"
      ],
      "metadata": {
        "id": "R8MlQY7-0GWs"
      },
      "execution_count": null,
      "outputs": []
    },
    {
      "cell_type": "code",
      "source": [],
      "metadata": {
        "id": "g0qDvfYM0G_o"
      },
      "execution_count": null,
      "outputs": []
    }
  ]
}